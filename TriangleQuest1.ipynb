{
  "nbformat": 4,
  "nbformat_minor": 0,
  "metadata": {
    "colab": {
      "provenance": [],
      "authorship_tag": "ABX9TyPAvGfycoemFQ47w9xd6Yt8"
    },
    "kernelspec": {
      "name": "python3",
      "display_name": "Python 3"
    },
    "language_info": {
      "name": "python"
    }
  },
  "cells": [
    {
      "cell_type": "code",
      "execution_count": null,
      "metadata": {
        "colab": {
          "base_uri": "https://localhost:8080/"
        },
        "id": "QdMb1gfOYpcu",
        "outputId": "af476eed-d97b-40f4-860c-f29e9cd4e0cf"
      },
      "outputs": [
        {
          "output_type": "stream",
          "name": "stdout",
          "text": [
            "6\n",
            "1\n",
            "22\n",
            "333\n",
            "4444\n",
            "55555\n"
          ]
        }
      ],
      "source": [
        "for i in range(1,int(input())): #More than 2 lines will result in 0 score. Do not leave a blank line also\n",
        "    print(int((10**i)/9*i))"
      ]
    }
  ]
}