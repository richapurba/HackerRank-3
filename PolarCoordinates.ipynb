{
  "nbformat": 4,
  "nbformat_minor": 0,
  "metadata": {
    "colab": {
      "provenance": [],
      "authorship_tag": "ABX9TyPNaKS9hszc2/3mQoEOXfzC"
    },
    "kernelspec": {
      "name": "python3",
      "display_name": "Python 3"
    },
    "language_info": {
      "name": "python"
    }
  },
  "cells": [
    {
      "cell_type": "code",
      "execution_count": 1,
      "metadata": {
        "colab": {
          "base_uri": "https://localhost:8080/"
        },
        "id": "BKc0PHm0G_TD",
        "outputId": "1945a4e8-a154-475b-9d52-5b0bffff0ef9"
      },
      "outputs": [
        {
          "output_type": "stream",
          "name": "stdout",
          "text": [
            "1+2j\n",
            "2.23606797749979\n",
            "1.1071487177940904\n"
          ]
        }
      ],
      "source": [
        "# Enter your code here. Read input from STDIN. Print output to STDOUT\n",
        "import cmath\n",
        "\n",
        "z = complex(input())\n",
        "print(abs(z))\n",
        "print(cmath.phase(z))\n"
      ]
    }
  ]
}