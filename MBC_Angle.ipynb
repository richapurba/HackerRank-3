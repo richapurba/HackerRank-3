{
  "nbformat": 4,
  "nbformat_minor": 0,
  "metadata": {
    "colab": {
      "provenance": [],
      "authorship_tag": "ABX9TyNyMYFYc1NeWmdqFIYDTvJf"
    },
    "kernelspec": {
      "name": "python3",
      "display_name": "Python 3"
    },
    "language_info": {
      "name": "python"
    }
  },
  "cells": [
    {
      "cell_type": "code",
      "execution_count": 1,
      "metadata": {
        "colab": {
          "base_uri": "https://localhost:8080/"
        },
        "id": "OUntYmLldLeS",
        "outputId": "fd5f806b-bcd6-490f-bfc7-8373344af406"
      },
      "outputs": [
        {
          "output_type": "stream",
          "name": "stdout",
          "text": [
            "20\n",
            "10\n",
            "63°\n"
          ]
        }
      ],
      "source": [
        "# Enter your code here. Read input from STDIN. Print output to STDOUT\n",
        "import math\n",
        "\n",
        "AB = int(input())\n",
        "BC = int(input())\n",
        "print(round(math.degrees(math.atan(AB/BC))), chr(176),sep=\"\")"
      ]
    }
  ]
}