{
  "nbformat": 4,
  "nbformat_minor": 0,
  "metadata": {
    "colab": {
      "provenance": [],
      "authorship_tag": "ABX9TyO9QuWDZrDNCDANM1U8kHSO"
    },
    "kernelspec": {
      "name": "python3",
      "display_name": "Python 3"
    },
    "language_info": {
      "name": "python"
    }
  },
  "cells": [
    {
      "cell_type": "code",
      "execution_count": 1,
      "metadata": {
        "id": "uMvOtyL-osfv",
        "colab": {
          "base_uri": "https://localhost:8080/"
        },
        "outputId": "11ad4434-3cc8-42c8-9f40-0a6cffa0aedc"
      },
      "outputs": [
        {
          "output_type": "stream",
          "name": "stdout",
          "text": [
            "3\n",
            "4\n",
            "5\n",
            "81\n",
            "1\n"
          ]
        }
      ],
      "source": [
        "# Enter your code here. Read input from STDIN. Print output to STDOUT\n",
        "\n",
        "a = int(input())\n",
        "b = int(input())\n",
        "m = int(input())\n",
        "\n",
        "print(pow(a,b))\n",
        "print(pow(a,b,m))"
      ]
    }
  ]
}